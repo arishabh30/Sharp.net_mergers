{
 "cells": [
  {
   "cell_type": "markdown",
   "metadata": {},
   "source": [
    "### WEIGHTS AND BIAS\n",
    "\n",
    "\\*\\*\\*\\* weights \\*\\*\\*\\*\n",
    "\n",
    "for a given Neural Network how could you define the contribution for the\n",
    "given input in your neural network ?? so weights are actually the\n",
    "contributing factors for your neural network.it decides what percentage\n",
    "should be given to your input so that the accuracy of your neural\n",
    "network gets high.\n",
    "\n",
    "for instance suppose you made a neural network for predicting the price\n",
    "of the house in your locality there are many contributing factors for\n",
    "this scenario but do all the factors contribute equally??? No\n",
    "\n",
    "So here we use the weights we provide the approx weight for each\n",
    "contributing factors and form an algorithm.\n",
    "\n",
    "\\*\\*\\*\\* BIAS \\*\\*\\*\\*\n",
    "\n",
    "for a neural network if we use only weights and plot a graph then its\n",
    "not necessary to get all the points on the same line passing through\n",
    "origin . so bias are added to our algorithm in order to get deviation\n",
    "and in order to join most of the points.\n",
    "\n",
    "bias actually manages the activation function to move either to the left\n",
    "or right. this means that if the points are more dense at the left or\n",
    "right of the function then it bias act as a y intercept and manages the\n",
    "function.\n",
    "\n",
    "------------------------------------------------------------------------"
   ]
  }
 ],
 "nbformat": 4,
 "nbformat_minor": 5,
 "metadata": {}
}
